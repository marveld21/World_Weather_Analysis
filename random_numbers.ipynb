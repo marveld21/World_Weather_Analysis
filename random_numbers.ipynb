{
 "cells": [
  {
   "cell_type": "code",
   "execution_count": 1,
   "id": "8cd80bf7",
   "metadata": {},
   "outputs": [],
   "source": [
    "import random\n",
    "import numpy as np"
   ]
  },
  {
   "cell_type": "code",
   "execution_count": 2,
   "id": "b8c9ad71",
   "metadata": {},
   "outputs": [
    {
     "data": {
      "text/plain": [
       "0.35587193967423725"
      ]
     },
     "execution_count": 2,
     "metadata": {},
     "output_type": "execute_result"
    }
   ],
   "source": [
    "random.random()"
   ]
  },
  {
   "cell_type": "code",
   "execution_count": 3,
   "id": "48d84f49",
   "metadata": {},
   "outputs": [
    {
     "data": {
      "text/plain": [
       "-5"
      ]
     },
     "execution_count": 3,
     "metadata": {},
     "output_type": "execute_result"
    }
   ],
   "source": [
    "random.randint(-10,10)"
   ]
  },
  {
   "cell_type": "code",
   "execution_count": 4,
   "id": "d1605cab",
   "metadata": {},
   "outputs": [
    {
     "data": {
      "text/plain": [
       "-1"
      ]
     },
     "execution_count": 4,
     "metadata": {},
     "output_type": "execute_result"
    }
   ],
   "source": [
    "random.randrange(-9,9,2)"
   ]
  },
  {
   "cell_type": "code",
   "execution_count": 5,
   "id": "adda026c",
   "metadata": {},
   "outputs": [
    {
     "data": {
      "text/plain": [
       "-9.981465380330041"
      ]
     },
     "execution_count": 5,
     "metadata": {},
     "output_type": "execute_result"
    }
   ],
   "source": [
    "random.uniform(-10,10)"
   ]
  },
  {
   "cell_type": "code",
   "execution_count": 6,
   "id": "ba0c44de",
   "metadata": {},
   "outputs": [
    {
     "data": {
      "text/plain": [
       "6.9144"
      ]
     },
     "execution_count": 6,
     "metadata": {},
     "output_type": "execute_result"
    }
   ],
   "source": [
    "round(random.uniform(-10,10),4)"
   ]
  },
  {
   "cell_type": "code",
   "execution_count": 7,
   "id": "7c26c3d6",
   "metadata": {},
   "outputs": [
    {
     "data": {
      "text/plain": [
       "-61.75285029316595"
      ]
     },
     "execution_count": 7,
     "metadata": {},
     "output_type": "execute_result"
    }
   ],
   "source": [
    "np.random.uniform(-90.000, 90.000)"
   ]
  },
  {
   "cell_type": "code",
   "execution_count": 10,
   "id": "190319fd",
   "metadata": {},
   "outputs": [
    {
     "data": {
      "text/plain": [
       "array([  6.30538408,  63.62281742, -28.38970098, -75.44641637,\n",
       "        61.87485171, -83.93730501,  10.93517924,  16.71288762,\n",
       "       -14.97377004,  83.39813531, -81.4658628 ,  45.5561402 ,\n",
       "        87.68016082, -60.45267868,  50.28885899,  41.80952487,\n",
       "       -86.75917999,  -6.76776772,  29.96012367, -58.01976889,\n",
       "        60.09218544,  16.49891759,  40.67276977,  13.62768209,\n",
       "       -72.56876358, -78.02524128, -56.80053987, -29.4700236 ,\n",
       "       -33.5784382 ,   3.69826421, -38.68601906,  70.80659517,\n",
       "       -54.22771055,  29.27715932, -33.33602947,  -8.53246437,\n",
       "        21.15409818,  49.56189832,  54.53710411,  67.39948427,\n",
       "       -28.76745399, -47.53227949, -16.55046693,  57.80320618,\n",
       "       -79.29939565, -17.72338016, -59.39237343, -12.52606746,\n",
       "        71.92519421,  22.88519547])"
      ]
     },
     "execution_count": 10,
     "metadata": {},
     "output_type": "execute_result"
    }
   ],
   "source": [
    "np.random.uniform(-90.000, 90.000, size=50)"
   ]
  },
  {
   "cell_type": "code",
   "execution_count": 12,
   "id": "e473c57f",
   "metadata": {},
   "outputs": [],
   "source": [
    "# Import timeit.\n",
    "import timeit"
   ]
  },
  {
   "cell_type": "code",
   "execution_count": 13,
   "id": "11f51764",
   "metadata": {},
   "outputs": [
    {
     "name": "stdout",
     "output_type": "stream",
     "text": [
      "12.9 µs ± 68.4 ns per loop (mean ± std. dev. of 7 runs, 100000 loops each)\n"
     ]
    }
   ],
   "source": [
    "%timeit np.random.uniform(-90.000, 90.000, size=1500)"
   ]
  },
  {
   "cell_type": "code",
   "execution_count": 14,
   "id": "b27d42e5",
   "metadata": {},
   "outputs": [
    {
     "name": "stdout",
     "output_type": "stream",
     "text": [
      "1.55 ms ± 30.9 µs per loop (mean ± std. dev. of 7 runs, 1000 loops each)\n"
     ]
    }
   ],
   "source": [
    "def latitudes(size):\n",
    "    latitudes = []\n",
    "    x = 0\n",
    "    while x < (size):\n",
    "        random_lat = random.randint(-90, 90) + random.random()\n",
    "        latitudes.append(random_lat)\n",
    "        x += 1\n",
    "    return latitudes\n",
    "# Call the function with 1500.\n",
    "%timeit latitudes(1500)"
   ]
  },
  {
   "cell_type": "code",
   "execution_count": 16,
   "id": "f33d4197",
   "metadata": {},
   "outputs": [],
   "source": [
    "# notice the loop is slower than np.random"
   ]
  },
  {
   "cell_type": "code",
   "execution_count": null,
   "id": "5be62a3a",
   "metadata": {},
   "outputs": [],
   "source": []
  }
 ],
 "metadata": {
  "kernelspec": {
   "display_name": "PythonData",
   "language": "python",
   "name": "pythondata"
  },
  "language_info": {
   "codemirror_mode": {
    "name": "ipython",
    "version": 3
   },
   "file_extension": ".py",
   "mimetype": "text/x-python",
   "name": "python",
   "nbconvert_exporter": "python",
   "pygments_lexer": "ipython3",
   "version": "3.7.13"
  }
 },
 "nbformat": 4,
 "nbformat_minor": 5
}
